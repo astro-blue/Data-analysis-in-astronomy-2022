{
 "cells": [
  {
   "cell_type": "code",
   "execution_count": 1,
   "id": "765788d2",
   "metadata": {},
   "outputs": [],
   "source": [
    "import numpy as np\n",
    "import matplotlib.pyplot as plt"
   ]
  },
  {
   "cell_type": "code",
   "execution_count": 2,
   "id": "2991f4b7",
   "metadata": {},
   "outputs": [],
   "source": [
    "### https://www.dropbox.com/s/oo9o50jjebjjpor/simple_correlation_100_x_y.npy?dl=0\n",
    "### https://www.dropbox.com/s/huiy2baip8z68ca/simple_correlation_1000_x_y.npy?dl=0\n",
    "### https://www.dropbox.com/s/ew850eai3gkk4st/simple_correlation_10000_x_y.npy?dl=0"
   ]
  },
  {
   "cell_type": "code",
   "execution_count": 16,
   "id": "7ecc62fb",
   "metadata": {},
   "outputs": [],
   "source": [
    "new_data = np.load('simple_correlation_100_x_y.npy')\n",
    "x = new_data[0,:]\n",
    "y = new_data[1,:]"
   ]
  },
  {
   "cell_type": "code",
   "execution_count": 18,
   "id": "12a796fc",
   "metadata": {},
   "outputs": [
    {
     "data": {
      "text/plain": [
       "<matplotlib.collections.PathCollection at 0x7fb9d0231ca0>"
      ]
     },
     "execution_count": 18,
     "metadata": {},
     "output_type": "execute_result"
    },
    {
     "data": {
      "image/png": "[encoded data removed]",
      "text/plain": [
       "<Figure size 432x288 with 1 Axes>"
      ]
     },
     "metadata": {
      "needs_background": "light"
     },
     "output_type": "display_data"
    }
   ],
   "source": [
    "plt.scatter(x+np.random.normal(0,0.05,len(x)),y,alpha=0.1)\n",
    "#plt.scatter(x,y)"
   ]
  },
  {
   "cell_type": "code",
   "execution_count": 8,
   "id": "c39d2167",
   "metadata": {},
   "outputs": [],
   "source": [
    "def calculate_signal(x,y):\n",
    "    search = np.where(x==0)\n",
    "    est_y_background = np.mean(y[search[0]])  \n",
    "    search = np.where(x==1)\n",
    "    mean_y_1= np.mean(y[search[0]])\n",
    "    return mean_y_1-est_y_background#[search[0]])"
   ]
  },
  {
   "cell_type": "code",
   "execution_count": 9,
   "id": "d66615d4",
   "metadata": {},
   "outputs": [
    {
     "name": "stdout",
     "output_type": "stream",
     "text": [
      "-0.5468913258301313\n"
     ]
    }
   ],
   "source": [
    "measured_signal = calculate_signal(x,y)\n",
    "print(measured_signal)"
   ]
  },
  {
   "cell_type": "markdown",
   "id": "df0f1996",
   "metadata": {},
   "source": [
    "### 1. Write a simple function to calculate the y_0,mean(y) when x==0 and the y_1, mean(y) when x==1\n",
    "### 2. dy = mean(y_1) - mean(y_0)\n",
    "### 3. Estimate the uncertainty of dy with error propagation\n",
    "### 4. Estimate the uncertainty of dy with bootstrap"
   ]
  },
  {
   "cell_type": "code",
   "execution_count": 10,
   "id": "b6da2a2e",
   "metadata": {},
   "outputs": [],
   "source": [
    "### normal error propagation\n",
    "search = np.where(x==0)[0]\n",
    "y_0_err = np.std(y[search])/np.sqrt(len(search))\n",
    "search = np.where(x==1)[0]\n",
    "y_1_err = np.std(y[search])/np.sqrt(len(search))"
   ]
  },
  {
   "cell_type": "code",
   "execution_count": 11,
   "id": "69efd429",
   "metadata": {},
   "outputs": [
    {
     "data": {
      "text/plain": [
       "1.9984419714919832"
      ]
     },
     "execution_count": 11,
     "metadata": {},
     "output_type": "execute_result"
    }
   ],
   "source": [
    "np.sqrt(y_1_err**2+y_0_err**2)"
   ]
  },
  {
   "cell_type": "code",
   "execution_count": 12,
   "id": "36bc7b51",
   "metadata": {},
   "outputs": [],
   "source": [
    "### Bootstrap error\n",
    "bootstrap_value = []\n",
    "bootstrap_time = 500\n",
    "for i in range(0,bootstrap_time):\n",
    "    random_index = np.random.randint(0,len(x),len(x))\n",
    "    bootstrap_value.append(calculate_signal(x[random_index],y[random_index]))"
   ]
  },
  {
   "cell_type": "code",
   "execution_count": 13,
   "id": "f562dffb",
   "metadata": {},
   "outputs": [
    {
     "data": {
      "text/plain": [
       "2.066387281617724"
      ]
     },
     "execution_count": 13,
     "metadata": {},
     "output_type": "execute_result"
    }
   ],
   "source": [
    "np.std(bootstrap_value)"
   ]
  },
  {
   "cell_type": "code",
   "execution_count": 15,
   "id": "d2096bb7",
   "metadata": {},
   "outputs": [
    {
     "name": "stdout",
     "output_type": "stream",
     "text": [
      "dy = -0.55+-2.07\n"
     ]
    }
   ],
   "source": [
    "print('dy = %0.2f+-%0.2f' % (measured_signal,np.std(bootstrap_value)))"
   ]
  },
  {
   "cell_type": "code",
   "execution_count": null,
   "id": "465dcffb",
   "metadata": {},
   "outputs": [],
   "source": []
  },
  {
   "cell_type": "code",
   "execution_count": null,
   "id": "dfa39697",
   "metadata": {},
   "outputs": [],
   "source": []
  }
 ],
 "metadata": {
  "kernelspec": {
   "display_name": "Python 3",
   "language": "python",
   "name": "python3"
  },
  "language_info": {
   "codemirror_mode": {
    "name": "ipython",
    "version": 3
   },
   "file_extension": ".py",
   "mimetype": "text/x-python",
   "name": "python",
   "nbconvert_exporter": "python",
   "pygments_lexer": "ipython3",
   "version": "3.8.8"
  }
 },
 "nbformat": 4,
 "nbformat_minor": 5
}
